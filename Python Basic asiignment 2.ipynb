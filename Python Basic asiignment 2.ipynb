{
 "cells": [
  {
   "cell_type": "markdown",
   "id": "f40c7b5b",
   "metadata": {},
   "source": [
    "# Python Assignment no. 2"
   ]
  },
  {
   "cell_type": "raw",
   "id": "7c6a5a39",
   "metadata": {},
   "source": [
    "1.What are the two values of the Boolean data type? How do you write them?\n",
    "\n",
    "--Values of boolean type are true and false. We write them as 'True' and 'False'."
   ]
  },
  {
   "cell_type": "raw",
   "id": "e25d65df",
   "metadata": {},
   "source": [
    "2.What are the three different types of Boolean operators?\n",
    "\n",
    "--'and', 'or', 'not' are 3 boolean operators"
   ]
  },
  {
   "cell_type": "raw",
   "id": "b1f1ec38",
   "metadata": {},
   "source": [
    "3.Make a list of each Boolean operator's truth tables (i.e. every possible combination of Boolean values for the operator and what it evaluate ).\n",
    "\n",
    "--       AND\n",
    "\n",
    "value1 and value2  |  output\n",
    "\n",
    " True       True       True\n",
    " True       False      False\n",
    " False      True       False\n",
    " False      False      False\n",
    "\n",
    "\n",
    "         OR\n",
    "value1 OR value2  |  output\n",
    "\n",
    " True      True       False\n",
    " True      False      True\n",
    " False     True       True\n",
    " False     False      True\n",
    " \n",
    "         Not\n",
    "value1   |  output\n",
    "\n",
    " True       False\n",
    " True       True\n",
    " False      True\n",
    " False      True"
   ]
  },
  {
   "cell_type": "raw",
   "id": "2cbadf50",
   "metadata": {},
   "source": [
    "4. What are the values of the following expressions?\n",
    "\n",
    "(5 > 4) and (3 == 5) --------------------------False\n",
    "not (5 > 4)  ----------------------------------False\n",
    "(5 > 4) or (3 == 5)-----------------------------True\n",
    "not ((5 > 4) or (3 == 5)) ----------------------False \n",
    "(True and True) and (True == False)-------------False\n",
    "(not False) or (not True)-----------------------True\n"
   ]
  },
  {
   "cell_type": "raw",
   "id": "9bccf2f6",
   "metadata": {},
   "source": [
    "5. What are the six comparison operators?\n",
    "\n",
    "less than(<)\n",
    "greater than(>)\n",
    "less than equal to(<=)\n",
    "greater than equal to(>=)\n",
    "equal to(==)\n",
    "not equal to(!=)"
   ]
  },
  {
   "cell_type": "raw",
   "id": "996807a3",
   "metadata": {},
   "source": [
    "6. How do you tell the difference between the equal to and assignment operators?Describe a condition and when you would use one.\n",
    "\n",
    "Equal to operator(==), Assignment operator(=).\n",
    "When I want to check if left hand side is equal to right hand side, I'll use equal to operator(==)\n",
    "and when I want to assign value of RHS to LHS , I'll use assignment operator(=)"
   ]
  },
  {
   "cell_type": "raw",
   "id": "57e920e2",
   "metadata": {},
   "source": [
    " 7. Identify the three blocks in this code: spam = 0 if spam == 10: print('eggs') if spam > 5: print('bacon') else: print('ham') print('spam') print('spam') \n",
    " \n",
    "spam = 0 \n",
    "if spam == 10:\n",
    "    print('eggs')\n",
    "if spam > 5:\n",
    "    print('bacon')\n",
    "else:\n",
    "    print('ham') \n",
    "print('spam') \n",
    "print('spam') "
   ]
  },
  {
   "cell_type": "code",
   "execution_count": 5,
   "id": "b9535e3b",
   "metadata": {
    "raw_mimetype": "text/x-python"
   },
   "outputs": [
    {
     "name": "stdout",
     "output_type": "stream",
     "text": [
      "jmnj\n",
      "Greetings!\n"
     ]
    }
   ],
   "source": [
    "#8. Write code that prints Hello if 1 is stored in spam, prints Howdy if 2 is stored in spam, and prints Greetings! if anything\n",
    "#else is stored in spam.\n",
    "\n",
    "spam = input()\n",
    "if spam == '1':\n",
    "    print('Hello')\n",
    "elif spam == '2':\n",
    "    print('Howdy')\n",
    "else:\n",
    "    print('Greetings!')\n",
    "    "
   ]
  },
  {
   "cell_type": "raw",
   "id": "2a2881fb",
   "metadata": {},
   "source": [
    "9.If your programme is stuck in an endless loop, what keys you’ll press? \n",
    "--Ctrl + C or stop button if using any IDE"
   ]
  },
  {
   "cell_type": "raw",
   "id": "814e49d3",
   "metadata": {},
   "source": [
    "10. How can you tell the difference between break and continue?\n",
    "--break statement makes flow of execution out of loop, and nothing within the loop is executed after break statement.\n",
    "--continue statement when executed skips current iteration of loop and loop moves to next iteration."
   ]
  },
  {
   "cell_type": "raw",
   "id": "4d99bb36",
   "metadata": {},
   "source": [
    "11. In a for loop, what is the difference between range(10), range(0, 10), and range(0, 10, 1)?\n",
    "--Output of all three is same. Range function takes 3 arguments, out ofwhich 2 are opational.\n",
    "range(start, end, step)-here end is mandatory argument. if not specified, start is taken as 0 and step as 1."
   ]
  },
  {
   "cell_type": "code",
   "execution_count": 15,
   "id": "f71f69f3",
   "metadata": {},
   "outputs": [
    {
     "name": "stdout",
     "output_type": "stream",
     "text": [
      "1\n",
      "2\n",
      "3\n",
      "4\n",
      "5\n",
      "6\n",
      "7\n",
      "8\n",
      "9\n",
      "10\n",
      "1\n",
      "2\n",
      "3\n",
      "4\n",
      "5\n",
      "6\n",
      "7\n",
      "8\n",
      "9\n",
      "10\n"
     ]
    }
   ],
   "source": [
    "'''12. Write a short program that prints the numbers 1 to 10 using a for loop. \n",
    "Then write an equivalent program that prints the numbers 1 to 10 using a while loop.'''\n",
    "for i in range(1,11):\n",
    "    print(i)\n",
    "a=1\n",
    "while a<=10:\n",
    "    print(a)\n",
    "    a+=1"
   ]
  },
  {
   "cell_type": "raw",
   "id": "f61b659e",
   "metadata": {},
   "source": [
    "13. If you had a function named bacon() inside a module named spam, how would you call it after importing spam?\n",
    "--import spam\n",
    "spam.bacon()\n",
    "\n",
    "call it using dot operator."
   ]
  }
 ],
 "metadata": {
  "celltoolbar": "Raw Cell Format",
  "kernelspec": {
   "display_name": "Python 3 (ipykernel)",
   "language": "python",
   "name": "python3"
  },
  "language_info": {
   "codemirror_mode": {
    "name": "ipython",
    "version": 3
   },
   "file_extension": ".py",
   "mimetype": "text/x-python",
   "name": "python",
   "nbconvert_exporter": "python",
   "pygments_lexer": "ipython3",
   "version": "3.9.7"
  }
 },
 "nbformat": 4,
 "nbformat_minor": 5
}

{
 "cells": [
  {
   "cell_type": "markdown",
   "id": "1ed8e401",
   "metadata": {},
   "source": [
    "1. Why are functions advantageous to have in your programs?\n",
    "--Functions make code reusable. I can call some funaction written in another file by importing file name. It it would not have been there I would have to write whole code again."
   ]
  },
  {
   "cell_type": "markdown",
   "id": "8eba0ef9",
   "metadata": {},
   "source": [
    "2. When does the code in a function run: when it's specified or when it's called?\n",
    "--Function runs when it is called "
   ]
  },
  {
   "cell_type": "markdown",
   "id": "e38e342a",
   "metadata": {},
   "source": [
    "3. What statement creates a function?\n",
    "--def FunctionName:\n",
    "    statements\n",
    "    \n",
    "this syntax is used to define function."
   ]
  },
  {
   "cell_type": "markdown",
   "id": "b18b0877",
   "metadata": {},
   "source": [
    "4. What is the difference between a function and a function call?\n",
    "--when we define a function it's just some line of code when we call a function it is executed.\n",
    "\n",
    "Function defination:\n",
    "def functionName:\n",
    "    statement\n",
    "    \n",
    "function call:\n",
    "functionName()"
   ]
  },
  {
   "cell_type": "markdown",
   "id": "e3630de5",
   "metadata": {},
   "source": [
    "5. How many global scopes are there in a Python program? How many local scopes?\n",
    "--There is only one global scopes and local scopes can be  as many as functions are declared. Every function have it's own local scope."
   ]
  },
  {
   "cell_type": "markdown",
   "id": "d4154f7e",
   "metadata": {},
   "source": [
    "6. What happens to variables in a local scope when the function call returns?\n",
    "--When the function call returns or function is executed , local variables are destroyed and memory is released by garbage collectors."
   ]
  },
  {
   "cell_type": "markdown",
   "id": "57e36e27",
   "metadata": {},
   "source": [
    "7. What is the concept of a return value? Is it possible to have a return value in an expression?\n",
    "--Return is a keyword in python, which returns the value or value of expression written immediately after the keyword. It doesn't executes the statements written after return statement in function and control of execution is returned to the function caller."
   ]
  },
  {
   "cell_type": "markdown",
   "id": "37d71c8d",
   "metadata": {},
   "source": [
    "8. If a function does not have a return statement, what is the return value of a call to that function?\n",
    "--If a function does not have return statement, after execution of the last statement of called function, it return control of execution to the caller function with return type undefined."
   ]
  },
  {
   "cell_type": "markdown",
   "id": "22d55441",
   "metadata": {},
   "source": [
    "9. How do you make a function variable refer to the global variable?\n",
    "-- We can use global keyword to declare it as global"
   ]
  },
  {
   "cell_type": "markdown",
   "id": "066c095f",
   "metadata": {},
   "source": [
    "10. What is the data type of None?\n",
    "--'NoneType' is the type of None"
   ]
  },
  {
   "cell_type": "markdown",
   "id": "f43c3f6f",
   "metadata": {},
   "source": [
    "11. What does the sentence import areallyourpetsnamederic do?\n",
    "-- It imports all functions from module areallyourpetsnamederic and I can use those functions in this program"
   ]
  },
  {
   "cell_type": "markdown",
   "id": "fa944795",
   "metadata": {},
   "source": [
    "12. If you had a bacon() feature in a spam module, what would you call it after importing spam?\n",
    "--spam.becon()"
   ]
  },
  {
   "cell_type": "markdown",
   "id": "7a4aff0c",
   "metadata": {},
   "source": [
    "13. What can you do to save a programme from crashing if it encounters an error?\n",
    "--I will put vulnerable part it in try and except block."
   ]
  },
  {
   "cell_type": "markdown",
   "id": "c3ef2173",
   "metadata": {},
   "source": [
    "14. What is the purpose of the try clause? What is the purpose of the except clause?\n",
    "--Try clause checks if the statement inside it produce some exception and if they do, except block is executed. And if not produce any exception, except block is not exected and statements after except block is executed.  "
   ]
  },
  {
   "cell_type": "code",
   "execution_count": null,
   "id": "5e110c5e",
   "metadata": {},
   "outputs": [],
   "source": []
  }
 ],
 "metadata": {
  "kernelspec": {
   "display_name": "Python 3 (ipykernel)",
   "language": "python",
   "name": "python3"
  },
  "language_info": {
   "codemirror_mode": {
    "name": "ipython",
    "version": 3
   },
   "file_extension": ".py",
   "mimetype": "text/x-python",
   "name": "python",
   "nbconvert_exporter": "python",
   "pygments_lexer": "ipython3",
   "version": "3.9.7"
  }
 },
 "nbformat": 4,
 "nbformat_minor": 5
}
